{
 "cells": [
  {
   "cell_type": "code",
   "execution_count": 1,
   "metadata": {
    "_cell_guid": "79c7e3d0-c299-4dcb-8224-4455121ee9b0",
    "_uuid": "d629ff2d2480ee46fbb7e2d37f6b5fab8052498a",
    "execution": {
     "iopub.execute_input": "2020-12-02T14:54:48.511642Z",
     "iopub.status.busy": "2020-12-02T14:54:48.510834Z",
     "iopub.status.idle": "2020-12-02T14:54:48.660379Z",
     "shell.execute_reply": "2020-12-02T14:54:48.659790Z"
    },
    "papermill": {
     "duration": 0.165898,
     "end_time": "2020-12-02T14:54:48.660512",
     "exception": false,
     "start_time": "2020-12-02T14:54:48.494614",
     "status": "completed"
    },
    "tags": []
   },
   "outputs": [],
   "source": [
    "import numpy as np\n",
    "import pandas as pd\n",
    "import json\n",
    "import os\n",
    "import cv2\n",
    "import matplotlib.pyplot as plt"
   ]
  },
  {
   "cell_type": "code",
   "execution_count": 2,
   "metadata": {
    "execution": {
     "iopub.execute_input": "2020-12-02T14:54:48.687890Z",
     "iopub.status.busy": "2020-12-02T14:54:48.687285Z",
     "iopub.status.idle": "2020-12-02T14:54:53.119464Z",
     "shell.execute_reply": "2020-12-02T14:54:53.118928Z"
    },
    "papermill": {
     "duration": 4.447636,
     "end_time": "2020-12-02T14:54:53.119609",
     "exception": false,
     "start_time": "2020-12-02T14:54:48.671973",
     "status": "completed"
    },
    "tags": []
   },
   "outputs": [],
   "source": [
    "from tensorflow.keras.applications.resnet50 import ResNet50\n",
    "from tensorflow.keras import Input, Model\n",
    "from keras.layers import Dense, Dropout, Flatten, add\n",
    "import keras"
   ]
  },
  {
   "cell_type": "code",
   "execution_count": 3,
   "metadata": {
    "execution": {
     "iopub.execute_input": "2020-12-02T14:54:53.147928Z",
     "iopub.status.busy": "2020-12-02T14:54:53.147115Z",
     "iopub.status.idle": "2020-12-02T14:54:53.150163Z",
     "shell.execute_reply": "2020-12-02T14:54:53.149685Z"
    },
    "papermill": {
     "duration": 0.019115,
     "end_time": "2020-12-02T14:54:53.150261",
     "exception": false,
     "start_time": "2020-12-02T14:54:53.131146",
     "status": "completed"
    },
    "tags": []
   },
   "outputs": [],
   "source": [
    "from keras.utils import to_categorical, Sequence\n",
    "from keras.models import Sequential\n",
    "from keras.layers import Dense, Dropout, Flatten, Conv2D, MaxPool2D, BatchNormalization\n",
    "from keras.optimizers import RMSprop,Adam"
   ]
  },
  {
   "cell_type": "code",
   "execution_count": 4,
   "metadata": {
    "execution": {
     "iopub.execute_input": "2020-12-02T14:54:53.176380Z",
     "iopub.status.busy": "2020-12-02T14:54:53.175783Z",
     "iopub.status.idle": "2020-12-02T14:54:53.184079Z",
     "shell.execute_reply": "2020-12-02T14:54:53.183540Z"
    },
    "papermill": {
     "duration": 0.022796,
     "end_time": "2020-12-02T14:54:53.184171",
     "exception": false,
     "start_time": "2020-12-02T14:54:53.161375",
     "status": "completed"
    },
    "tags": []
   },
   "outputs": [
    {
     "data": {
      "text/plain": [
       "['train_tfrecords',\n",
       " 'train_images',\n",
       " 'test_tfrecords',\n",
       " 'sample_submission.csv',\n",
       " 'label_num_to_disease_map.json',\n",
       " 'train.csv',\n",
       " 'test_images']"
      ]
     },
     "execution_count": 4,
     "metadata": {},
     "output_type": "execute_result"
    }
   ],
   "source": [
    "BASE_DIR = \"../input/cassava-leaf-disease-classification/\"\n",
    "\n",
    "os.listdir(BASE_DIR)"
   ]
  },
  {
   "cell_type": "code",
   "execution_count": 5,
   "metadata": {
    "execution": {
     "iopub.execute_input": "2020-12-02T14:54:53.215983Z",
     "iopub.status.busy": "2020-12-02T14:54:53.215350Z",
     "iopub.status.idle": "2020-12-02T14:54:53.262885Z",
     "shell.execute_reply": "2020-12-02T14:54:53.263534Z"
    },
    "papermill": {
     "duration": 0.067283,
     "end_time": "2020-12-02T14:54:53.263674",
     "exception": false,
     "start_time": "2020-12-02T14:54:53.196391",
     "status": "completed"
    },
    "tags": []
   },
   "outputs": [
    {
     "name": "stdout",
     "output_type": "stream",
     "text": [
      "             image_id  label\n",
      "0      1000015157.jpg      0\n",
      "1      1000201771.jpg      3\n",
      "2       100042118.jpg      1\n",
      "3      1000723321.jpg      1\n",
      "4      1000812911.jpg      3\n",
      "...               ...    ...\n",
      "21392   999068805.jpg      3\n",
      "21393   999329392.jpg      3\n",
      "21394   999474432.jpg      1\n",
      "21395   999616605.jpg      4\n",
      "21396   999998473.jpg      4\n",
      "\n",
      "[21397 rows x 2 columns]\n"
     ]
    }
   ],
   "source": [
    "train_data = pd.read_csv(BASE_DIR+'train.csv')\n",
    "samp_subm = pd.read_csv(BASE_DIR+'sample_submission.csv')\n",
    "\n",
    "print(train_data)"
   ]
  },
  {
   "cell_type": "code",
   "execution_count": 6,
   "metadata": {
    "execution": {
     "iopub.execute_input": "2020-12-02T14:54:53.293895Z",
     "iopub.status.busy": "2020-12-02T14:54:53.293276Z",
     "iopub.status.idle": "2020-12-02T14:54:53.739786Z",
     "shell.execute_reply": "2020-12-02T14:54:53.740268Z"
    },
    "papermill": {
     "duration": 0.463592,
     "end_time": "2020-12-02T14:54:53.740402",
     "exception": false,
     "start_time": "2020-12-02T14:54:53.276810",
     "status": "completed"
    },
    "tags": []
   },
   "outputs": [
    {
     "name": "stdout",
     "output_type": "stream",
     "text": [
      "number of train data: 21397\n",
      "number of train images: 21397\n",
      "number of test images: 1\n"
     ]
    }
   ],
   "source": [
    "print('number of train data:', len(train_data))\n",
    "print('number of train images:', len(os.listdir(BASE_DIR+'train_images/')))\n",
    "print('number of test images:', len(os.listdir(BASE_DIR+'test_images/')))"
   ]
  },
  {
   "cell_type": "code",
   "execution_count": 7,
   "metadata": {
    "execution": {
     "iopub.execute_input": "2020-12-02T14:54:53.779793Z",
     "iopub.status.busy": "2020-12-02T14:54:53.779140Z",
     "iopub.status.idle": "2020-12-02T14:55:23.513397Z",
     "shell.execute_reply": "2020-12-02T14:55:23.514775Z"
    },
    "papermill": {
     "duration": 29.761032,
     "end_time": "2020-12-02T14:55:23.514940",
     "exception": false,
     "start_time": "2020-12-02T14:54:53.753908",
     "status": "completed"
    },
    "tags": []
   },
   "outputs": [
    {
     "name": "stdout",
     "output_type": "stream",
     "text": [
      "Found 17118 validated image filenames belonging to 5 classes.\n",
      "Found 4279 validated image filenames belonging to 5 classes.\n"
     ]
    }
   ],
   "source": [
    "from tensorflow.keras.preprocessing.image import ImageDataGenerator\n",
    "\n",
    "train_df = pd.read_csv(os.path.join(BASE_DIR, 'train.csv'))\n",
    "train_df['label'] = train_df['label'].astype(str)\n",
    "\n",
    "\n",
    "train_datagen = ImageDataGenerator(validation_split = 0.2,  #给出验证数据分配比例（validation_split = 0.2）\n",
    "    rescale=1./255,\n",
    "    rotation_range=40,\n",
    "    width_shift_range=0.2,\n",
    "    height_shift_range=0.2,\n",
    "    shear_range=0.2,\n",
    "    zoom_range=0.2,\n",
    "    horizontal_flip=True,)\n",
    "\n",
    "\n",
    "validation_datagen = ImageDataGenerator(validation_split = 0.2,rescale=1./255) #注意，不能增强验证数据 #给出验证数据分配比例（validation_split = 0.2）\n",
    "\n",
    "train_generator = train_datagen.flow_from_dataframe(\n",
    "    dataframe=train_df,\n",
    "    directory=os.path.join(BASE_DIR, 'train_images'),\n",
    "    subset = \"training\",#需指定为训练数据\n",
    "    x_col='image_id',\n",
    "    y_col='label',\n",
    "    target_size=(300, 300),\n",
    "    class_mode='sparse', #使用'sparse' 因为train_df没有使用one-hot\n",
    "    batch_size=32\n",
    ")\n",
    "        # 因为使用了binary_crossentropy损失，所以需要用二进制标签 默认 class_mode='categorical'\n",
    "validation_generator = validation_datagen.flow_from_dataframe(\n",
    "    dataframe=train_df,\n",
    "    directory=os.path.join(BASE_DIR, 'train_images'),\n",
    "    subset = \"validation\", #需指定为验证数据\n",
    "    x_col='image_id',\n",
    "    y_col='label',\n",
    "    target_size=(300, 300),\n",
    "    class_mode='sparse', #使用'sparse' 因为train_df没有使用one-hot\n",
    "    batch_size=32\n",
    ")"
   ]
  },
  {
   "cell_type": "code",
   "execution_count": 8,
   "metadata": {
    "execution": {
     "iopub.execute_input": "2020-12-02T14:55:23.559328Z",
     "iopub.status.busy": "2020-12-02T14:55:23.558398Z",
     "iopub.status.idle": "2020-12-02T14:55:23.566330Z",
     "shell.execute_reply": "2020-12-02T14:55:23.567024Z"
    },
    "papermill": {
     "duration": 0.032077,
     "end_time": "2020-12-02T14:55:23.567187",
     "exception": false,
     "start_time": "2020-12-02T14:55:23.535110",
     "status": "completed"
    },
    "tags": []
   },
   "outputs": [
    {
     "name": "stdout",
     "output_type": "stream",
     "text": [
      "534.0\n",
      "133.0\n"
     ]
    }
   ],
   "source": [
    "BATCH_SIZE=32\n",
    "STEPS_PER_EPOCH = len(train_df)*0.8 // BATCH_SIZE\n",
    "VALIDATION_STEPS = len(train_df)*0.2 // BATCH_SIZE\n",
    "print(STEPS_PER_EPOCH)\n",
    "print(VALIDATION_STEPS)"
   ]
  },
  {
   "cell_type": "code",
   "execution_count": 9,
   "metadata": {
    "execution": {
     "iopub.execute_input": "2020-12-02T14:55:23.606552Z",
     "iopub.status.busy": "2020-12-02T14:55:23.605959Z",
     "iopub.status.idle": "2020-12-02T14:55:29.557762Z",
     "shell.execute_reply": "2020-12-02T14:55:29.556830Z"
    },
    "papermill": {
     "duration": 5.970636,
     "end_time": "2020-12-02T14:55:29.557887",
     "exception": false,
     "start_time": "2020-12-02T14:55:23.587251",
     "status": "completed"
    },
    "tags": []
   },
   "outputs": [],
   "source": [
    "resnet50_weights_dir =  \"../input/resnet50/resnet50_weights_tf_dim_ordering_tf_kernels_notop.h5\"\n",
    "base_resnet50 = ResNet50(weights = resnet50_weights_dir, include_top = False, input_shape = (300,300,3))\n",
    "base_resnet50.trainable = False\n"
   ]
  },
  {
   "cell_type": "code",
   "execution_count": 10,
   "metadata": {
    "execution": {
     "iopub.execute_input": "2020-12-02T14:55:29.601663Z",
     "iopub.status.busy": "2020-12-02T14:55:29.600999Z",
     "iopub.status.idle": "2020-12-02T14:55:29.605592Z",
     "shell.execute_reply": "2020-12-02T14:55:29.605109Z"
    },
    "papermill": {
     "duration": 0.030861,
     "end_time": "2020-12-02T14:55:29.605694",
     "exception": false,
     "start_time": "2020-12-02T14:55:29.574833",
     "status": "completed"
    },
    "tags": []
   },
   "outputs": [],
   "source": [
    "def create_base_model(base_model):\n",
    "    \n",
    "    inputs = Input(shape = (300,300,3))\n",
    "    \n",
    "    base_out = base_model(inputs)\n",
    "    \n",
    "    base_out = Flatten()(base_out)\n",
    "    \n",
    "    base_out = Dropout(0.3)(base_out)\n",
    "    \n",
    "    base1_out = Dense(1024, activation = 'relu')(base_out)\n",
    "    \n",
    "    model = Model(inputs = inputs, outputs = base1_out)\n",
    "    \n",
    "    return model"
   ]
  },
  {
   "cell_type": "code",
   "execution_count": 11,
   "metadata": {
    "execution": {
     "iopub.execute_input": "2020-12-02T14:55:29.644288Z",
     "iopub.status.busy": "2020-12-02T14:55:29.642181Z",
     "iopub.status.idle": "2020-12-02T14:55:29.975947Z",
     "shell.execute_reply": "2020-12-02T14:55:29.975048Z"
    },
    "papermill": {
     "duration": 0.355868,
     "end_time": "2020-12-02T14:55:29.976072",
     "exception": false,
     "start_time": "2020-12-02T14:55:29.620204",
     "status": "completed"
    },
    "tags": []
   },
   "outputs": [],
   "source": [
    "resnet50_base = create_base_model(base_resnet50)"
   ]
  },
  {
   "cell_type": "code",
   "execution_count": 12,
   "metadata": {
    "execution": {
     "iopub.execute_input": "2020-12-02T14:55:30.030269Z",
     "iopub.status.busy": "2020-12-02T14:55:30.017996Z",
     "iopub.status.idle": "2020-12-02T14:55:30.034709Z",
     "shell.execute_reply": "2020-12-02T14:55:30.035400Z"
    },
    "papermill": {
     "duration": 0.044523,
     "end_time": "2020-12-02T14:55:30.035598",
     "exception": false,
     "start_time": "2020-12-02T14:55:29.991075",
     "status": "completed"
    },
    "tags": []
   },
   "outputs": [
    {
     "name": "stdout",
     "output_type": "stream",
     "text": [
      "Model: \"functional_1\"\n",
      "_________________________________________________________________\n",
      "Layer (type)                 Output Shape              Param #   \n",
      "=================================================================\n",
      "input_2 (InputLayer)         [(None, 300, 300, 3)]     0         \n",
      "_________________________________________________________________\n",
      "resnet50 (Functional)        (None, 10, 10, 2048)      23587712  \n",
      "_________________________________________________________________\n",
      "flatten (Flatten)            (None, 204800)            0         \n",
      "_________________________________________________________________\n",
      "dropout (Dropout)            (None, 204800)            0         \n",
      "_________________________________________________________________\n",
      "dense (Dense)                (None, 1024)              209716224 \n",
      "=================================================================\n",
      "Total params: 233,303,936\n",
      "Trainable params: 209,716,224\n",
      "Non-trainable params: 23,587,712\n",
      "_________________________________________________________________\n"
     ]
    }
   ],
   "source": [
    "resnet50_base.summary()"
   ]
  },
  {
   "cell_type": "code",
   "execution_count": 13,
   "metadata": {
    "execution": {
     "iopub.execute_input": "2020-12-02T14:55:30.078929Z",
     "iopub.status.busy": "2020-12-02T14:55:30.076703Z",
     "iopub.status.idle": "2020-12-02T14:55:30.442658Z",
     "shell.execute_reply": "2020-12-02T14:55:30.442113Z"
    },
    "papermill": {
     "duration": 0.390905,
     "end_time": "2020-12-02T14:55:30.442762",
     "exception": false,
     "start_time": "2020-12-02T14:55:30.051857",
     "status": "completed"
    },
    "tags": []
   },
   "outputs": [
    {
     "name": "stdout",
     "output_type": "stream",
     "text": [
      "Model: \"functional_3\"\n",
      "_________________________________________________________________\n",
      "Layer (type)                 Output Shape              Param #   \n",
      "=================================================================\n",
      "input_3 (InputLayer)         [(None, 300, 300, 3)]     0         \n",
      "_________________________________________________________________\n",
      "functional_1 (Functional)    (None, 1024)              233303936 \n",
      "_________________________________________________________________\n",
      "dense_1 (Dense)              (None, 512)               524800    \n",
      "_________________________________________________________________\n",
      "dropout_1 (Dropout)          (None, 512)               0         \n",
      "_________________________________________________________________\n",
      "dense_2 (Dense)              (None, 5)                 2565      \n",
      "=================================================================\n",
      "Total params: 233,831,301\n",
      "Trainable params: 210,243,589\n",
      "Non-trainable params: 23,587,712\n",
      "_________________________________________________________________\n"
     ]
    }
   ],
   "source": [
    "inputs = Input(shape = (300,300,3))\n",
    "\n",
    "base_out = resnet50_base(inputs)\n",
    "    \n",
    "outputs = Dense(512, activation = 'relu')(base_out)\n",
    "    \n",
    "outputs = Dropout(0.2)(outputs)\n",
    "    \n",
    "outputs = Dense(5, activation = 'softmax')(outputs)\n",
    "    \n",
    "model = Model(inputs = inputs, outputs = outputs)\n",
    "    \n",
    "model.summary()\n"
   ]
  },
  {
   "cell_type": "code",
   "execution_count": 14,
   "metadata": {
    "execution": {
     "iopub.execute_input": "2020-12-02T14:55:30.491071Z",
     "iopub.status.busy": "2020-12-02T14:55:30.490027Z"
    },
    "papermill": {
     "duration": null,
     "end_time": null,
     "exception": false,
     "start_time": "2020-12-02T14:55:30.458773",
     "status": "running"
    },
    "tags": []
   },
   "outputs": [
    {
     "name": "stdout",
     "output_type": "stream",
     "text": [
      "Epoch 1/30\n",
      "534/534 [==============================] - 581s 1s/step - loss: 6.6046 - accuracy: 0.5949 - val_loss: 1.1780 - val_accuracy: 0.6165\n",
      "Epoch 2/30\n",
      "534/534 [==============================] - 551s 1s/step - loss: 1.2012 - accuracy: 0.6134 - val_loss: 1.1811 - val_accuracy: 0.6165\n",
      "Epoch 3/30\n",
      "534/534 [==============================] - 555s 1s/step - loss: 1.1974 - accuracy: 0.6147 - val_loss: 1.1786 - val_accuracy: 0.6161\n",
      "Epoch 4/30\n",
      "534/534 [==============================] - 556s 1s/step - loss: 1.1871 - accuracy: 0.6146 - val_loss: 1.1813 - val_accuracy: 0.6165\n",
      "Epoch 5/30\n",
      "534/534 [==============================] - 548s 1s/step - loss: 1.1958 - accuracy: 0.6145 - val_loss: 1.1790 - val_accuracy: 0.6165\n",
      "Epoch 6/30\n",
      "534/534 [==============================] - 558s 1s/step - loss: 1.1861 - accuracy: 0.6149 - val_loss: 1.1786 - val_accuracy: 0.6175\n",
      "Epoch 7/30\n",
      "534/534 [==============================] - 549s 1s/step - loss: 1.1882 - accuracy: 0.6144 - val_loss: 1.1799 - val_accuracy: 0.6156\n",
      "Epoch 8/30\n",
      "534/534 [==============================] - 545s 1s/step - loss: 1.1891 - accuracy: 0.6144 - val_loss: 1.1788 - val_accuracy: 0.6168\n",
      "Epoch 9/30\n",
      "346/534 [==================>...........] - ETA: 2:56 - loss: 1.1896 - accuracy: 0.6126"
     ]
    }
   ],
   "source": [
    "\n",
    "\n",
    "model.compile(optimizer='rmsprop',\n",
    "              loss='sparse_categorical_crossentropy',\n",
    "              metrics=['accuracy'])\n",
    "\n",
    "history = model.fit_generator(train_generator,\n",
    "                              epochs=30,\n",
    "                              steps_per_epoch=STEPS_PER_EPOCH,\n",
    "                              verbose=1,\n",
    "                              validation_data=validation_generator,\n",
    "                              validation_steps=VALIDATION_STEPS) #加入callbacks函数"
   ]
  },
  {
   "cell_type": "code",
   "execution_count": null,
   "metadata": {
    "papermill": {
     "duration": null,
     "end_time": null,
     "exception": null,
     "start_time": null,
     "status": "pending"
    },
    "tags": []
   },
   "outputs": [],
   "source": [
    "import matplotlib.pyplot as plt\n",
    "\n",
    "acc = history.history['accuracy']\n",
    "val_acc = history.history['val_accuracy']\n",
    "loss = history.history['loss']\n",
    "val_loss = history.history['val_loss']\n",
    "\n",
    "epochs = range(len(acc))\n",
    "\n",
    "plt.plot(epochs, acc, 'bo', label='Training acc')\n",
    "plt.plot(epochs, val_acc, 'b', label='Validation acc')\n",
    "plt.title('Training and validation accuracy')\n",
    "plt.legend()\n",
    "\n",
    "plt.figure()\n",
    "\n",
    "plt.plot(epochs, loss, 'bo', label='Training loss')\n",
    "plt.plot(epochs, val_loss, 'b', label='Validation loss')\n",
    "plt.title('Training and validation loss')\n",
    "plt.legend()\n",
    "\n",
    "plt.show()"
   ]
  },
  {
   "cell_type": "code",
   "execution_count": null,
   "metadata": {
    "papermill": {
     "duration": null,
     "end_time": null,
     "exception": null,
     "start_time": null,
     "status": "pending"
    },
    "tags": []
   },
   "outputs": [],
   "source": [
    "filenames = []\n",
    "labels = []\n",
    "#for f in os.listdir(os.path.join(BASE_DIR, 'test1')):\n",
    "for f in os.listdir(os.path.join(BASE_DIR, 'test_images')):\n",
    "    filenames.append(f)\n",
    "    labels.append('0')\n",
    "\n",
    "test_df = pd.DataFrame({\n",
    "    'image_id': filenames,\n",
    "    'label': labels,\n",
    "})\n",
    "\n",
    "test_datagen = ImageDataGenerator(rescale=1./255).flow_from_dataframe(\n",
    "    dataframe=test_df,\n",
    "    directory=os.path.join(BASE_DIR, 'test_images'),\n",
    "    #directory=os.path.join(BASE_DIR, 'test1'),\n",
    "    x_col='image_id',\n",
    "    y_col='label',\n",
    "    target_size=(240, 240)\n",
    "    \n",
    ")\n",
    "\n",
    "y_pred = model.predict(test_datagen)\n",
    "test_df['label'] = np.argmax(y_pred, axis=1)\n",
    "test_df.to_csv('submission.csv', index=False)\n",
    "print(test_df)\n",
    "print('Done')"
   ]
  }
 ],
 "metadata": {
  "kernelspec": {
   "display_name": "Python 3",
   "language": "python",
   "name": "python3"
  },
  "language_info": {
   "codemirror_mode": {
    "name": "ipython",
    "version": 3
   },
   "file_extension": ".py",
   "mimetype": "text/x-python",
   "name": "python",
   "nbconvert_exporter": "python",
   "pygments_lexer": "ipython3",
   "version": "3.7.7"
  },
  "papermill": {
   "duration": null,
   "end_time": null,
   "environment_variables": {},
   "exception": null,
   "input_path": "__notebook__.ipynb",
   "output_path": "__notebook__.ipynb",
   "parameters": {},
   "start_time": "2020-12-02T14:54:44.730170",
   "version": "2.1.0"
  }
 },
 "nbformat": 4,
 "nbformat_minor": 4
}
